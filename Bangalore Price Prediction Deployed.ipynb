{
 "cells": [
  {
   "cell_type": "code",
   "execution_count": 2,
   "id": "f961f1d4",
   "metadata": {},
   "outputs": [],
   "source": [
    "import gradio as gr\n",
    "import pickle\n",
    "\n",
    "import warnings\n",
    "warnings.filterwarnings('ignore')"
   ]
  },
  {
   "cell_type": "code",
   "execution_count": 3,
   "id": "b1b0f806",
   "metadata": {},
   "outputs": [],
   "source": [
    "# Load the trained model in this notebook\n",
    "\n",
    "with open('model_lr.pkl','rb') as file:\n",
    "    trained_model = pickle.load(file)"
   ]
  },
  {
   "cell_type": "code",
   "execution_count": 4,
   "id": "57ce6605",
   "metadata": {},
   "outputs": [],
   "source": [
    "# Lets create a funcion to make the prediction\n",
    "\n",
    "def make_predictions(av,loc,sz,tot_sq,bath,bal,ar_ca,ar_pa,ar_sa):\n",
    "    \n",
    "    input_data = [[av,loc,sz,tot_sq,bath,bal,ar_ca,ar_pa,ar_sa]]\n",
    "    \n",
    "    prediction = trained_model.predict(input_data)\n",
    "    \n",
    "    return round(prediction[0],2)"
   ]
  },
  {
   "cell_type": "code",
   "execution_count": 5,
   "id": "da0739e2",
   "metadata": {},
   "outputs": [
    {
     "data": {
      "text/plain": [
       "95.17"
      ]
     },
     "execution_count": 5,
     "metadata": {},
     "output_type": "execute_result"
    }
   ],
   "source": [
    "# Check the function\n",
    "\n",
    "make_predictions(1,0,3,1500,2,2,1,0,0)"
   ]
  },
  {
   "cell_type": "code",
   "execution_count": 6,
   "id": "f229359d",
   "metadata": {},
   "outputs": [],
   "source": [
    "# Let's make a frontend\n",
    "\n",
    "iface = gr.Interface(fn = make_predictions,\n",
    "                    inputs = [gr.Dropdown([('Read to Move',1),('Under Construction',0)],label='Availibility'),\n",
    "                             gr.Dropdown([('Top 10',1),('Others',0)],label = 'Location'),\n",
    "                             gr.Number(label = 'Size / BHK'),\n",
    "                             gr.Number(label = 'Area in Sq.Ft'),\n",
    "                             gr.Number(label = 'How many Bathrooms'),\n",
    "                             gr.Number(label = 'How many balcony'),\n",
    "                             gr.Dropdown([('Yes',1),('No',0)],label = 'Is it a Carpet Area?'),\n",
    "                             gr.Dropdown([('Yes',1),('No',0)],label = 'Is it a Plot Area?'),\n",
    "                             gr.Dropdown([('Yes',1),('No',0)],label = 'Is it a Super Built-Up Area?')],\n",
    "                    \n",
    "                    outputs = gr.Textbox(label = 'Expected price of the property'),\n",
    "                    title = 'ABC Properties',\n",
    "                    description = 'Enter Details to get the expected value of the property',\n",
    "                    allow_flagging = False)"
   ]
  },
  {
   "cell_type": "code",
   "execution_count": 7,
   "id": "d680c9ec",
   "metadata": {},
   "outputs": [
    {
     "name": "stdout",
     "output_type": "stream",
     "text": [
      "Running on local URL:  http://127.0.0.1:7860\n",
      "\n",
      "To create a public link, set `share=True` in `launch()`.\n"
     ]
    },
    {
     "data": {
      "text/html": [
       "<div><iframe src=\"http://127.0.0.1:7860/\" width=\"100%\" height=\"500\" allow=\"autoplay; camera; microphone; clipboard-read; clipboard-write;\" frameborder=\"0\" allowfullscreen></iframe></div>"
      ],
      "text/plain": [
       "<IPython.core.display.HTML object>"
      ]
     },
     "metadata": {},
     "output_type": "display_data"
    },
    {
     "data": {
      "text/plain": []
     },
     "execution_count": 7,
     "metadata": {},
     "output_type": "execute_result"
    }
   ],
   "source": [
    "# Let's launch this interface\n",
    "\n",
    "iface.launch()"
   ]
  },
  {
   "cell_type": "code",
   "execution_count": null,
   "id": "94c689af",
   "metadata": {},
   "outputs": [],
   "source": []
  }
 ],
 "metadata": {
  "kernelspec": {
   "display_name": "Python 3 (ipykernel)",
   "language": "python",
   "name": "python3"
  },
  "language_info": {
   "codemirror_mode": {
    "name": "ipython",
    "version": 3
   },
   "file_extension": ".py",
   "mimetype": "text/x-python",
   "name": "python",
   "nbconvert_exporter": "python",
   "pygments_lexer": "ipython3",
   "version": "3.11.3"
  }
 },
 "nbformat": 4,
 "nbformat_minor": 5
}
